{
 "cells": [
  {
   "cell_type": "code",
   "execution_count": 1,
   "metadata": {},
   "outputs": [
    {
     "name": "stdout",
     "output_type": "stream",
     "text": [
      "hello world\n"
     ]
    }
   ],
   "source": []
  },
  {
   "cell_type": "code",
   "execution_count": 1,
   "metadata": {},
   "outputs": [
    {
     "ename": "TypeError",
     "evalue": "Fighter() takes no arguments",
     "output_type": "error",
     "traceback": [
      "\u001b[0;31m---------------------------------------------------------------------------\u001b[0m",
      "\u001b[0;31mTypeError\u001b[0m                                 Traceback (most recent call last)",
      "Cell \u001b[0;32mIn[1], line 45\u001b[0m\n\u001b[1;32m     42\u001b[0m         \u001b[39mprint\u001b[39m(\u001b[39m\"\u001b[39m\u001b[39mIt\u001b[39m\u001b[39m'\u001b[39m\u001b[39ms a draw!\u001b[39m\u001b[39m\"\u001b[39m)\n\u001b[1;32m     44\u001b[0m \u001b[39m# Create player and opponent fighters\u001b[39;00m\n\u001b[0;32m---> 45\u001b[0m player \u001b[39m=\u001b[39m Fighter(\u001b[39m\"\u001b[39;49m\u001b[39mPlayer\u001b[39;49m\u001b[39m\"\u001b[39;49m, \u001b[39m100\u001b[39;49m, \u001b[39m20\u001b[39;49m, \u001b[39m10\u001b[39;49m)\n\u001b[1;32m     47\u001b[0m \u001b[39m# Randomly select opponent type\u001b[39;00m\n\u001b[1;32m     48\u001b[0m opponent_type \u001b[39m=\u001b[39m random\u001b[39m.\u001b[39mchoice([\u001b[39m\"\u001b[39m\u001b[39mWerewolf\u001b[39m\u001b[39m\"\u001b[39m, \u001b[39m\"\u001b[39m\u001b[39mVampire\u001b[39m\u001b[39m\"\u001b[39m, \u001b[39m\"\u001b[39m\u001b[39mDevil\u001b[39m\u001b[39m\"\u001b[39m, \u001b[39m\"\u001b[39m\u001b[39mHalf-Man Half-Scorpion\u001b[39m\u001b[39m\"\u001b[39m, \u001b[39m\"\u001b[39m\u001b[39mZombie\u001b[39m\u001b[39m\"\u001b[39m])\n",
      "\u001b[0;31mTypeError\u001b[0m: Fighter() takes no arguments"
     ]
    }
   ],
   "source": [
    "class Fighter:\n",
    "    def _init_(self, name, health, attack_power, defense_power):\n",
    "        self.name = name\n",
    "        self.health = health\n",
    "        self.attack_power = attack_power\n",
    "        self.defense_power = defense_power\n",
    "\n",
    "    def take_damage(self, damage):\n",
    "        self.health -= damage\n",
    "        if self.health < 0:\n",
    "            self.health = 0\n",
    "\n",
    "    def attack(self, opponent):\n",
    "        damage = self.attack_power - opponent.defense_power\n",
    "        if damage > 0:\n",
    "            opponent.take_damage(damage)\n",
    "\n",
    "def play_luzifer(player, opponent):\n",
    "    print(\"Luzifer - Zu Begins!\")\n",
    "    print(f\"Player: {player.name} vs. Opponent: {opponent.name}\")\n",
    "\n",
    "    while player.health > 0 and opponent.health > 0:\n",
    "        print(f\"\\n{player.name}'s Health: {player.health}\")\n",
    "        print(f\"{opponent.name}'s Health: {opponent.health}\")\n",
    "\n",
    "        # Player's turn\n",
    "        print(\"\\nPlayer's Zu\")\n",
    "        player.attack(opponent)\n",
    "        if opponent.health <= 0:\n",
    "            break\n",
    "\n",
    "        # Opponent's turn\n",
    "        print(\"\\nOpponent's Zu\")\n",
    "        opponent.attack(player)\n",
    "\n",
    "    print(\"\\nZu Ended!\")\n",
    "    if player.health > opponent.health:\n",
    "        print(\"Congratulations! You won!\")\n",
    "    elif player.health < opponent.health:\n",
    "        print(\"You lost! Better luck next time.\")\n",
    "    else:\n",
    "        print(\"It's a draw!\")\n",
    "\n",
    "# Create player and opponent fighters\n",
    "# player = Fighter(\"Player\", 100, 20, 10)\n",
    "\n",
    "# Randomly select opponent type\n",
    "opponent_type = random.choice([\"Werewolf\", \"Vampire\", \"Devil\", \"Half-Man Half-Scorpion\", \"Zombie\"])\n",
    "\n",
    "if opponent_type == \"Werewolf\":\n",
    "    opponent = Fighter(\"Werewolf\", 100, 18, 12)\n",
    "elif opponent_type == \"Vampire\":\n",
    "    opponent = Fighter(\"Vampire\", 100, 16, 14)\n",
    "elif opponent_type == \"Devil\":\n",
    "    opponent = Fighter(\"Devil\", 120, 25, 15)\n",
    "elif opponent_type == \"Half-Man Half-Scorpion\":\n",
    "    opponent = Fighter(\"Half-Man Half-Scorpion\", 90, 22, 18)\n",
    "else:\n",
    "    opponent = Fighter(\"Zombie\", 100, 15, 10)"
   ]
  }
 ],
 "metadata": {
  "kernelspec": {
   "display_name": "Python 3",
   "language": "python",
   "name": "python3"
  },
  "language_info": {
   "codemirror_mode": {
    "name": "ipython",
    "version": 3
   },
   "file_extension": ".py",
   "mimetype": "text/x-python",
   "name": "python",
   "nbconvert_exporter": "python",
   "pygments_lexer": "ipython3",
   "version": "3.11.4"
  },
  "orig_nbformat": 4
 },
 "nbformat": 4,
 "nbformat_minor": 2
}
